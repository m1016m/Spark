{
 "cells": [
  {
   "cell_type": "code",
   "execution_count": 2,
   "metadata": {},
   "outputs": [],
   "source": [
    "from pyspark import SparkContext\n",
    "\n",
    "#建立SparkContext來連結到spark cluster，且可以用來建立RDD和broadcast變數（記得一次只能運作一個SparkContext）\n",
    "sc = SparkContext()\n",
    "#Broadcast 廣播變數  accumulator累加器這兩個為共享變數，可用於節省除存和運行的時間，提昇並行處理的效率\n",
    "#step1. 不使用Broadcast"
   ]
  },
  {
   "cell_type": "code",
   "execution_count": 3,
   "metadata": {},
   "outputs": [],
   "source": [
    "kvFruit=sc.parallelize([(1,\"apple\"),(2,\"orange\"),(3,\"banana\"),(4,\"grape\")])"
   ]
  },
  {
   "cell_type": "code",
   "execution_count": 4,
   "metadata": {},
   "outputs": [],
   "source": [
    "kvMap=kvFruit.collectAsMap() #使用collectAsMap() 將RDD轉成 python dict."
   ]
  },
  {
   "cell_type": "code",
   "execution_count": 5,
   "metadata": {},
   "outputs": [
    {
     "data": {
      "text/plain": [
       "{1: 'apple', 2: 'orange', 3: 'banana', 4: 'grape'}"
      ]
     },
     "execution_count": 5,
     "metadata": {},
     "output_type": "execute_result"
    }
   ],
   "source": [
    "kvMap #dictionary"
   ]
  },
  {
   "cell_type": "code",
   "execution_count": 6,
   "metadata": {},
   "outputs": [
    {
     "name": "stdout",
     "output_type": "stream",
     "text": [
      "水果編號：[2, 4, 1, 3]\n"
     ]
    }
   ],
   "source": [
    "#建立fruitds\n",
    "fruitds=sc.parallelize([2,4,1,3])\n",
    "print(\"水果編號：\"+str(fruitds.collect()))"
   ]
  },
  {
   "cell_type": "code",
   "execution_count": 7,
   "metadata": {},
   "outputs": [
    {
     "name": "stdout",
     "output_type": "stream",
     "text": [
      "使用 kvMap進行水果名稱轉換\n",
      "水果名稱：['orange', 'grape', 'apple', 'banana']\n"
     ]
    }
   ],
   "source": [
    "#使用dict. kvMap進行水果名稱轉換\n",
    "print(\"使用 kvMap進行水果名稱轉換\")\n",
    "fruitName=fruitds.map(lambda x:kvMap[x]).collect()\n",
    "print(\"水果名稱：\"+str(fruitName))"
   ]
  },
  {
   "cell_type": "code",
   "execution_count": 8,
   "metadata": {},
   "outputs": [],
   "source": [
    "#step2. 使用Broadcast 廣播變數改寫 step1.\n",
    "#建立kvFruit\n",
    "kvFruit=sc.parallelize([(1,\"apple\"),(2,\"orange\"),(3,\"banana\"),(4,\"grape\")])"
   ]
  },
  {
   "cell_type": "code",
   "execution_count": 9,
   "metadata": {},
   "outputs": [
    {
     "name": "stdout",
     "output_type": "stream",
     "text": [
      "對照表{1: 'apple', 2: 'orange', 3: 'banana', 4: 'grape'}\n"
     ]
    }
   ],
   "source": [
    "#以collectAsMap() 將kvFruit RDD 建為 python dictionary kvMap\n",
    "kvMap=kvFruit.collectAsMap()\n",
    "print(\"對照表\"+str(kvMap))"
   ]
  },
  {
   "cell_type": "code",
   "execution_count": 10,
   "metadata": {},
   "outputs": [],
   "source": [
    "#將dict kvMap 轉成 bcFruitMap 廣播變數, 使用sc.broadcast()\n",
    "bcFruitMap=sc.broadcast(kvMap)"
   ]
  },
  {
   "cell_type": "code",
   "execution_count": 11,
   "metadata": {},
   "outputs": [],
   "source": [
    "#建立fruitds\n",
    "fruitds=sc.parallelize([2,2,4,1])"
   ]
  },
  {
   "cell_type": "code",
   "execution_count": 12,
   "metadata": {},
   "outputs": [
    {
     "name": "stdout",
     "output_type": "stream",
     "text": [
      "水果名稱：['orange', 'orange', 'grape', 'apple']\n"
     ]
    }
   ],
   "source": [
    "#使用bcFruitMap.value 進行轉換\n",
    "fruitName=fruitds.map(lambda x:bcFruitMap.value[x]).collect()\n",
    "print(\"水果名稱：\"+str(fruitName))"
   ]
  },
  {
   "cell_type": "code",
   "execution_count": 13,
   "metadata": {},
   "outputs": [],
   "source": [
    "#accumulator累加器共享變數\n",
    "#step1. accumulator累加器範例"
   ]
  },
  {
   "cell_type": "code",
   "execution_count": 14,
   "metadata": {},
   "outputs": [],
   "source": [
    "#建立RDD\n",
    "intRDD=sc.parallelize([3,4,5,8,1,2])"
   ]
  },
  {
   "cell_type": "code",
   "execution_count": 15,
   "metadata": {},
   "outputs": [],
   "source": [
    "total=sc.accumulator(0.0) #建立累加器 total, 起始值 0.0 (double)\n",
    "num=sc.accumulator(0)    #建立累加器num,起始值 0 (int)"
   ]
  },
  {
   "cell_type": "code",
   "execution_count": 16,
   "metadata": {},
   "outputs": [],
   "source": [
    "#使用foreach傳入參數\n",
    "intRDD.foreach(lambda i : [total.add(i), num.add(i)])"
   ]
  },
  {
   "cell_type": "code",
   "execution_count": 17,
   "metadata": {},
   "outputs": [
    {
     "name": "stdout",
     "output_type": "stream",
     "text": [
      "sum:23.0 count:23\n"
     ]
    }
   ],
   "source": [
    "print(\"sum:\"+str(total.value), \"count:\"+str(num.value))"
   ]
  },
  {
   "cell_type": "code",
   "execution_count": null,
   "metadata": {},
   "outputs": [],
   "source": []
  }
 ],
 "metadata": {
  "kernelspec": {
   "display_name": "Python 3",
   "language": "python",
   "name": "python3"
  },
  "language_info": {
   "codemirror_mode": {
    "name": "ipython",
    "version": 3
   },
   "file_extension": ".py",
   "mimetype": "text/x-python",
   "name": "python",
   "nbconvert_exporter": "python",
   "pygments_lexer": "ipython3",
   "version": "3.5.2"
  }
 },
 "nbformat": 4,
 "nbformat_minor": 2
}
