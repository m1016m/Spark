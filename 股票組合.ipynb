{
 "cells": [
  {
   "cell_type": "code",
   "execution_count": 16,
   "metadata": {},
   "outputs": [],
   "source": [
    "from pyspark.sql import SparkSession\n",
    "\n",
    "spark = SparkSession \\\n",
    "    .builder \\\n",
    "    .appName(\"Python Spark RFM example\") \\\n",
    "    .config(\"spark.some.config.option\", \"some-value\") \\\n",
    "    .getOrCreate()"
   ]
  },
  {
   "cell_type": "code",
   "execution_count": 17,
   "metadata": {},
   "outputs": [],
   "source": [
    "df_raw = spark.read.format('com.databricks.spark.csv').\\\n",
    "                       options(header='true', \\\n",
    "                       inferschema='true').\\\n",
    "            load(\"file:///home/hadoop/OnlineRetail.csv\",header=True);"
   ]
  },
  {
   "cell_type": "code",
   "execution_count": 18,
   "metadata": {},
   "outputs": [
    {
     "name": "stdout",
     "output_type": "stream",
     "text": [
      "+---------+---------+--------------------+--------+--------------+---------+----------+--------------+\n",
      "|InvoiceNo|StockCode|         Description|Quantity|   InvoiceDate|UnitPrice|CustomerID|       Country|\n",
      "+---------+---------+--------------------+--------+--------------+---------+----------+--------------+\n",
      "|   536365|   85123A|WHITE HANGING HEA...|       6|12/1/2010 8:26|     2.55|     17850|United Kingdom|\n",
      "|   536365|    71053| WHITE METAL LANTERN|       6|12/1/2010 8:26|     3.39|     17850|United Kingdom|\n",
      "|   536365|   84406B|CREAM CUPID HEART...|       8|12/1/2010 8:26|     2.75|     17850|United Kingdom|\n",
      "|   536365|   84029G|KNITTED UNION FLA...|       6|12/1/2010 8:26|     3.39|     17850|United Kingdom|\n",
      "|   536365|   84029E|RED WOOLLY HOTTIE...|       6|12/1/2010 8:26|     3.39|     17850|United Kingdom|\n",
      "+---------+---------+--------------------+--------+--------------+---------+----------+--------------+\n",
      "only showing top 5 rows\n",
      "\n",
      "root\n",
      " |-- InvoiceNo: string (nullable = true)\n",
      " |-- StockCode: string (nullable = true)\n",
      " |-- Description: string (nullable = true)\n",
      " |-- Quantity: integer (nullable = true)\n",
      " |-- InvoiceDate: string (nullable = true)\n",
      " |-- UnitPrice: double (nullable = true)\n",
      " |-- CustomerID: integer (nullable = true)\n",
      " |-- Country: string (nullable = true)\n",
      "\n"
     ]
    }
   ],
   "source": [
    "df_raw.show(5)\n",
    "df_raw.printSchema()"
   ]
  },
  {
   "cell_type": "code",
   "execution_count": 19,
   "metadata": {},
   "outputs": [],
   "source": [
    "from pyspark.sql.functions import count\n",
    "\n",
    "def my_count(df_in):\n",
    "    df_in.agg( *[ count(c).alias(c) for c in df_in.columns ] ).show()"
   ]
  },
  {
   "cell_type": "code",
   "execution_count": 20,
   "metadata": {},
   "outputs": [],
   "source": [
    "# 数据清理和数据操作\n",
    "\n",
    "# 检查并移除 null\n",
    "import pyspark.sql.functions as F\n",
    "from pyspark.sql.functions import round\n",
    "df_raw = df_raw.withColumn('Asset',round( F.col('Quantity') * F.col('UnitPrice'), 2 ))\n",
    "df = df_raw.withColumnRenamed('StockCode', 'Cusip')\\\n",
    "           .select('CustomerID','Cusip','Quantity','UnitPrice','Asset')"
   ]
  },
  {
   "cell_type": "code",
   "execution_count": 21,
   "metadata": {},
   "outputs": [
    {
     "name": "stdout",
     "output_type": "stream",
     "text": [
      "+----------+------+--------+---------+------+\n",
      "|CustomerID| Cusip|Quantity|UnitPrice| Asset|\n",
      "+----------+------+--------+---------+------+\n",
      "|    406829|541909|  541909|   541909|541909|\n",
      "+----------+------+--------+---------+------+\n",
      "\n"
     ]
    }
   ],
   "source": [
    "my_count(df)"
   ]
  },
  {
   "cell_type": "code",
   "execution_count": 22,
   "metadata": {},
   "outputs": [
    {
     "name": "stdout",
     "output_type": "stream",
     "text": [
      "+----------+------+--------+---------+------+\n",
      "|CustomerID| Cusip|Quantity|UnitPrice| Asset|\n",
      "+----------+------+--------+---------+------+\n",
      "|    397924|397924|  397924|   397924|397924|\n",
      "+----------+------+--------+---------+------+\n",
      "\n"
     ]
    }
   ],
   "source": [
    "#由于计数结果不相同，因此在 CustomerID 列。我们可以从数据集中除去这些记录。\n",
    "df =  df.filter(F.col('Asset')>=0)\n",
    "df = df.dropna(how='any')\n",
    "my_count(df)"
   ]
  },
  {
   "cell_type": "code",
   "execution_count": 23,
   "metadata": {},
   "outputs": [
    {
     "name": "stdout",
     "output_type": "stream",
     "text": [
      "+----------+------+--------+---------+-----+\n",
      "|CustomerID| Cusip|Quantity|UnitPrice|Asset|\n",
      "+----------+------+--------+---------+-----+\n",
      "|     17850|85123A|       6|     2.55| 15.3|\n",
      "|     17850| 71053|       6|     3.39|20.34|\n",
      "|     17850|84406B|       8|     2.75| 22.0|\n",
      "+----------+------+--------+---------+-----+\n",
      "only showing top 3 rows\n",
      "\n"
     ]
    }
   ],
   "source": [
    "df.show(3)"
   ]
  },
  {
   "cell_type": "code",
   "execution_count": 24,
   "metadata": {},
   "outputs": [],
   "source": [
    "#转换 Cusip 格式一致\n",
    "from pyspark.sql.functions import udf\n",
    "from pyspark.sql.types import StringType, DoubleType\n",
    "\n",
    "def toUpper(s):\n",
    "    return s.upper()\n",
    "\n",
    "upper_udf = udf(lambda x: toUpper(x), StringType())"
   ]
  },
  {
   "cell_type": "code",
   "execution_count": 25,
   "metadata": {},
   "outputs": [
    {
     "name": "stdout",
     "output_type": "stream",
     "text": [
      "+------+---------+----------+\n",
      "| Cusip|Customers|TotalAsset|\n",
      "+------+---------+----------+\n",
      "|85123A|     2035|  100603.5|\n",
      "| 22423|     1724| 142592.95|\n",
      "|85099B|     1618|  85220.78|\n",
      "| 84879|     1408|  56580.34|\n",
      "| 47566|     1397|  68844.33|\n",
      "+------+---------+----------+\n",
      "only showing top 5 rows\n",
      "\n"
     ]
    }
   ],
   "source": [
    "pop = df.groupBy('Cusip')\\\n",
    "  .agg(F.count('CustomerID').alias('Customers'),F.round(F.sum('Asset'),2).alias('TotalAsset'))\\\n",
    "  .sort([F.col('Customers'),F.col('TotalAsset')],ascending=[0,0])\n",
    "\n",
    "pop.show(5)"
   ]
  },
  {
   "cell_type": "code",
   "execution_count": 26,
   "metadata": {},
   "outputs": [],
   "source": [
    "import pandas as pd\n",
    "top = 10\n",
    "cusip_lst = pd.DataFrame(pop.select('Cusip').head(top)).astype('str').iloc[:, 0].tolist()\n",
    "cusip_lst.insert(0,'CustomerID')"
   ]
  },
  {
   "cell_type": "code",
   "execution_count": 27,
   "metadata": {},
   "outputs": [],
   "source": [
    "#为每个客户创建投资组合表\n",
    "pivot_tab = df.groupBy('CustomerID').pivot('Cusip').sum('Asset')\n",
    "pivot_tab = pivot_tab.fillna(0)"
   ]
  },
  {
   "cell_type": "code",
   "execution_count": 28,
   "metadata": {},
   "outputs": [
    {
     "name": "stdout",
     "output_type": "stream",
     "text": [
      "+----------+------+-----+------+-----+-----+-----+-----+-----+----+-----+\n",
      "|CustomerID|85123A|22423|85099B|84879|47566|20725|22720|20727|POST|23203|\n",
      "+----------+------+-----+------+-----+-----+-----+-----+-----+----+-----+\n",
      "|     16503|   0.0|  0.0|   0.0|  0.0|  0.0|  0.0|  0.0| 33.0| 0.0|  0.0|\n",
      "|     15727| 123.9| 25.5|   0.0|  0.0|  0.0| 33.0| 99.0|  0.0| 0.0|  0.0|\n",
      "|     14570|   0.0|  0.0|   0.0|  0.0|  0.0|  0.0|  0.0|  0.0| 0.0|  0.0|\n",
      "|     14450|   0.0|  0.0|  8.32|  0.0|  0.0|  0.0| 49.5|  0.0| 0.0|  0.0|\n",
      "+----------+------+-----+------+-----+-----+-----+-----+-----+----+-----+\n",
      "only showing top 4 rows\n",
      "\n"
     ]
    }
   ],
   "source": [
    "#取最多 n 每个客户的股票投资组合表\n",
    "selected_tab  = pivot_tab.select(cusip_lst)\n",
    "selected_tab.show(4)"
   ]
  },
  {
   "cell_type": "code",
   "execution_count": 36,
   "metadata": {},
   "outputs": [
    {
     "name": "stdout",
     "output_type": "stream",
     "text": [
      "+----------+------+-----+------+-----+-----+-----+-----+-----+----+-----+\n",
      "|CustomerID|85123A|22423|85099B|84879|47566|20725|22720|20727|POST|23203|\n",
      "+----------+------+-----+------+-----+-----+-----+-----+-----+----+-----+\n",
      "|     12940|  17.7| 51.0|   0.0|13.52| 19.8|  0.0|  0.0|  0.0| 0.0|  0.0|\n",
      "|     13623| 14.75| 25.5|   0.0|  0.0|  0.0|  0.0|  0.0|  0.0| 0.0|  0.0|\n",
      "|     13832|   0.0|  0.0|   0.0|  0.0|  0.0|  0.0|  0.0|  0.0| 0.0|  0.0|\n",
      "|     14450|   0.0|  0.0|  8.32|  0.0|  0.0|  0.0| 49.5|  0.0| 0.0|  0.0|\n",
      "|     15447|   0.0| 25.5|   0.0|13.52|23.25|  0.0|  0.0|  0.0| 0.0|  0.0|\n",
      "+----------+------+-----+------+-----+-----+-----+-----+-----+----+-----+\n",
      "only showing top 5 rows\n",
      "\n",
      "+----------+------+-----+------+-----+-----+-----+-----+-----+-----+-----+\n",
      "|CustomerID|85123A|22423|85099B|84879|47566|20725|22720|20727| POST|23203|\n",
      "+----------+------+-----+------+-----+-----+-----+-----+-----+-----+-----+\n",
      "|     13285|   0.0|12.75|  41.6|  0.0|  0.0| 33.0|  0.0| 33.0|  0.0| 40.3|\n",
      "|     14570|   0.0|  0.0|   0.0|  0.0|  0.0|  0.0|  0.0|  0.0|  0.0|  0.0|\n",
      "|     16386|   0.0|12.75|  4.16| 6.76|  0.0|  0.0|  0.0|  0.0|  0.0| 4.16|\n",
      "|     16861|   0.0|  0.0|   0.0|  0.0|  0.0|  0.0|  0.0|  0.0|  0.0|  0.0|\n",
      "|     12626|   0.0|12.75| 104.0|  0.0|  0.0| 16.5|14.85|  0.0|666.0| 83.2|\n",
      "+----------+------+-----+------+-----+-----+-----+-----+-----+-----+-----+\n",
      "only showing top 5 rows\n",
      "\n"
     ]
    }
   ],
   "source": [
    "#建造 train 和 test 数据集\n",
    "train, test = selected_tab .randomSplit([0.8,0.2])\n",
    "\n",
    "train.show(5)\n",
    "test.show(5)"
   ]
  },
  {
   "cell_type": "code",
   "execution_count": null,
   "metadata": {},
   "outputs": [],
   "source": []
  }
 ],
 "metadata": {
  "kernelspec": {
   "display_name": "Python 3",
   "language": "python",
   "name": "python3"
  }
 },
 "nbformat": 4,
 "nbformat_minor": 2
}
