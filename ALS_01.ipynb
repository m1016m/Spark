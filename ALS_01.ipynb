{
 "cells": [
  {
   "cell_type": "code",
   "execution_count": 1,
   "metadata": {},
   "outputs": [],
   "source": [
    "from pyspark import SparkContext\n",
    "\n",
    "#建立SparkContext來連結到spark cluster，且可以用來建立RDD和broadcast變數（記得一次只能運作一個SparkContext）\n",
    "sc = SparkContext()"
   ]
  },
  {
   "cell_type": "code",
   "execution_count": 6,
   "metadata": {},
   "outputs": [],
   "source": [
    "#ch12_ALS_01"
   ]
  },
  {
   "cell_type": "code",
   "execution_count": 7,
   "metadata": {},
   "outputs": [],
   "source": [
    "#1. 準備資料"
   ]
  },
  {
   "cell_type": "code",
   "execution_count": 8,
   "metadata": {},
   "outputs": [],
   "source": [
    "#step1.1  匯入 ml-100k資料, 使用sc.textFile() ,Transformation"
   ]
  },
  {
   "cell_type": "code",
   "execution_count": 9,
   "metadata": {},
   "outputs": [],
   "source": [
    "rawUserData=sc.textFile(\"file:///home/hadoop/data/u.data\") #rawUserData 是一個 RDD"
   ]
  },
  {
   "cell_type": "code",
   "execution_count": 10,
   "metadata": {},
   "outputs": [
    {
     "data": {
      "text/plain": [
       "100000"
      ]
     },
     "execution_count": 10,
     "metadata": {},
     "output_type": "execute_result"
    }
   ],
   "source": [
    "rawUserData.count() #count action, 100k 評價資料"
   ]
  },
  {
   "cell_type": "code",
   "execution_count": 11,
   "metadata": {},
   "outputs": [
    {
     "data": {
      "text/plain": [
       "'196\\t242\\t3\\t881250949'"
      ]
     },
     "execution_count": 11,
     "metadata": {},
     "output_type": "execute_result"
    }
   ],
   "source": [
    "#step1.2  查看首筆資料, first() action, byte , '\\t' -->tab 間隔, user_id, product_id, rating, timestamp\n",
    "rawUserData.first()"
   ]
  },
  {
   "cell_type": "code",
   "execution_count": 12,
   "metadata": {},
   "outputs": [
    {
     "name": "stdout",
     "output_type": "stream",
     "text": [
      "196\t242\t3\t881250949\n"
     ]
    }
   ],
   "source": [
    "print(rawUserData.first()) #用print()"
   ]
  },
  {
   "cell_type": "code",
   "execution_count": 13,
   "metadata": {},
   "outputs": [],
   "source": [
    "#step1.3 Import Rating function, (from pyspark.mllib.recommendation module)\n",
    "#             Represents a (user, product, rating) tuple.\n",
    "from pyspark.mllib.recommendation import Rating"
   ]
  },
  {
   "cell_type": "code",
   "execution_count": 14,
   "metadata": {},
   "outputs": [],
   "source": [
    "#step1.4 讀取RDD rawUserData 前三個欄位[:3], 記住原始資料是以 '\\t' 分隔\n",
    "#              將RDD rawUserData --> RDD rawRatings\n",
    "rawRatings=rawUserData.map(lambda x:x.split(\"\\t\")[:3])"
   ]
  },
  {
   "cell_type": "code",
   "execution_count": 15,
   "metadata": {},
   "outputs": [
    {
     "data": {
      "text/plain": [
       "[['196', '242', '3'],\n",
       " ['186', '302', '3'],\n",
       " ['22', '377', '1'],\n",
       " ['244', '51', '2'],\n",
       " ['166', '346', '1']]"
      ]
     },
     "execution_count": 15,
     "metadata": {},
     "output_type": "execute_result"
    }
   ],
   "source": [
    "#step1.5 檢視 RDD rawRatings 前5列, take() action\n",
    "#              rawRatings 是 PiplelinedRDD 物件(形式是 list of list)\n",
    "rawRatings.take(5)"
   ]
  },
  {
   "cell_type": "code",
   "execution_count": 16,
   "metadata": {},
   "outputs": [],
   "source": [
    "#step1.6 準備ALS訓練資料\n",
    "#將rawRating資料(lPiplelinedRDD) 以map() 轉換成 PipelinedRDD ratingsRDD\n",
    "#   ratingsRDD 是ALS演算法所需的資料格式\n",
    "ratingsRDD=rawRatings.map(lambda x:(x[0],x[1],x[2]))  #形式是  tuple (x[0],x[1],x[2])"
   ]
  },
  {
   "cell_type": "code",
   "execution_count": 17,
   "metadata": {},
   "outputs": [
    {
     "data": {
      "text/plain": [
       "[('196', '242', '3'),\n",
       " ('186', '302', '3'),\n",
       " ('22', '377', '1'),\n",
       " ('244', '51', '2'),\n",
       " ('166', '346', '1')]"
      ]
     },
     "execution_count": 17,
     "metadata": {},
     "output_type": "execute_result"
    }
   ],
   "source": [
    "#step1.7 檢視 ratingsRDD 前5筆 , take(5) action\n",
    "#ratingsRDD -->形式是 list of tuple\n",
    "ratingsRDD.take(5)"
   ]
  },
  {
   "cell_type": "code",
   "execution_count": 18,
   "metadata": {},
   "outputs": [
    {
     "data": {
      "text/plain": [
       "100000"
      ]
     },
     "execution_count": 18,
     "metadata": {},
     "output_type": "execute_result"
    }
   ],
   "source": [
    "#step1.8 檢視ratingsRDD 筆數\n",
    "ratingsRDD.count()"
   ]
  },
  {
   "cell_type": "code",
   "execution_count": 19,
   "metadata": {},
   "outputs": [],
   "source": [
    "#step1.9 檢視不重複使用者數/電影數"
   ]
  },
  {
   "cell_type": "code",
   "execution_count": 20,
   "metadata": {},
   "outputs": [
    {
     "name": "stdout",
     "output_type": "stream",
     "text": [
      "不重複使用者數: 943   不重複電影數:1682\n"
     ]
    }
   ],
   "source": [
    "numUsers=ratingsRDD.map(lambda x:x[0]).distinct().count()\n",
    "numMovies=ratingsRDD.map(lambda x:x[1]).distinct().count()\n",
    "print('不重複使用者數: '+str(numUsers)+'   不重複電影數:'+str(numMovies))"
   ]
  },
  {
   "cell_type": "code",
   "execution_count": 21,
   "metadata": {},
   "outputs": [],
   "source": [
    "#2. 訓練模型"
   ]
  },
  {
   "cell_type": "code",
   "execution_count": 22,
   "metadata": {},
   "outputs": [],
   "source": [
    "#step2.1 Import ALS module"
   ]
  },
  {
   "cell_type": "code",
   "execution_count": 23,
   "metadata": {},
   "outputs": [],
   "source": [
    "from pyspark.mllib.recommendation import ALS"
   ]
  },
  {
   "cell_type": "code",
   "execution_count": 24,
   "metadata": {},
   "outputs": [],
   "source": [
    "#step2.2 使用ALS.train() method 進行訓練"
   ]
  },
  {
   "cell_type": "code",
   "execution_count": 26,
   "metadata": {},
   "outputs": [],
   "source": [
    "#參數: Ratings=ratingsRDD, rank=10, Iterations=10, lambda=0.01\n",
    "#回傳資料型別: MatrixFactorizationModel \n",
    "#明確評價訓練\n",
    "model=ALS.train(ratingsRDD,10,10,0.01)"
   ]
  },
  {
   "cell_type": "code",
   "execution_count": 27,
   "metadata": {},
   "outputs": [
    {
     "data": {
      "text/plain": [
       "pyspark.mllib.recommendation.MatrixFactorizationModel"
      ]
     },
     "execution_count": 27,
     "metadata": {},
     "output_type": "execute_result"
    }
   ],
   "source": [
    "type(model) #訓練完成, 結果是 MatrixFactorizationModel Object 'model'"
   ]
  },
  {
   "cell_type": "code",
   "execution_count": 28,
   "metadata": {},
   "outputs": [],
   "source": [
    "#3. 使用模型進行推薦"
   ]
  },
  {
   "cell_type": "code",
   "execution_count": 29,
   "metadata": {},
   "outputs": [],
   "source": [
    "#step3.1 使用 MatrixFactorizationModel.recommendProducts(user:int,num:int) method\n",
    "#             針對使用者推薦電影"
   ]
  },
  {
   "cell_type": "code",
   "execution_count": 30,
   "metadata": {},
   "outputs": [
    {
     "data": {
      "text/plain": [
       "[Rating(user=100, product=917, rating=5.041050921091996),\n",
       " Rating(user=100, product=916, rating=4.8951399360832415),\n",
       " Rating(user=100, product=1463, rating=4.779030788486365),\n",
       " Rating(user=100, product=613, rating=4.717257483432048),\n",
       " Rating(user=100, product=378, rating=4.716840943255116)]"
      ]
     },
     "execution_count": 30,
     "metadata": {},
     "output_type": "execute_result"
    }
   ],
   "source": [
    "model.recommendProducts(100,5) #userid=100, num=5"
   ]
  },
  {
   "cell_type": "code",
   "execution_count": 31,
   "metadata": {},
   "outputs": [],
   "source": [
    "#rating 越高,表示越推薦"
   ]
  },
  {
   "cell_type": "code",
   "execution_count": 32,
   "metadata": {},
   "outputs": [],
   "source": [
    "#step3.2 查詢系統對使用者(userid)推薦的產品(products) 的評分(rating)\n",
    "#             使用 MatrixFactorizationModel.predict(user:int,product:int) method"
   ]
  },
  {
   "cell_type": "code",
   "execution_count": 33,
   "metadata": {},
   "outputs": [
    {
     "data": {
      "text/plain": [
       "3.9414845266344827"
      ]
     },
     "execution_count": 33,
     "metadata": {},
     "output_type": "execute_result"
    }
   ],
   "source": [
    "model.predict(100,1141) #userid=100, product=1141, rating="
   ]
  },
  {
   "cell_type": "code",
   "execution_count": 34,
   "metadata": {},
   "outputs": [],
   "source": [
    "#step3.3 針對電影推薦給使用者\n",
    "#             使用MatrixFactorizationModel.recommendUsers(product:int,num:int) method"
   ]
  },
  {
   "cell_type": "code",
   "execution_count": 35,
   "metadata": {},
   "outputs": [
    {
     "data": {
      "text/plain": [
       "[Rating(user=857, product=200, rating=6.001939066653453),\n",
       " Rating(user=512, product=200, rating=5.672903355737355),\n",
       " Rating(user=558, product=200, rating=5.615437930164801),\n",
       " Rating(user=863, product=200, rating=5.519769151096956),\n",
       " Rating(user=252, product=200, rating=5.45501258577649)]"
      ]
     },
     "execution_count": 35,
     "metadata": {},
     "output_type": "execute_result"
    }
   ],
   "source": [
    "model.recommendUsers(200,5) #product=200, num=5"
   ]
  },
  {
   "cell_type": "code",
   "execution_count": 36,
   "metadata": {},
   "outputs": [],
   "source": [
    "#4. 顯示推薦的電影的名稱"
   ]
  },
  {
   "cell_type": "code",
   "execution_count": 37,
   "metadata": {},
   "outputs": [],
   "source": [
    "#step4.1 讀取u.item 文字檔\n",
    "#              使用sc.textFile() Transformation\n",
    "#              將 u.item 文字檔匯入 itemRDD"
   ]
  },
  {
   "cell_type": "code",
   "execution_count": 39,
   "metadata": {},
   "outputs": [
    {
     "data": {
      "text/plain": [
       "1682"
      ]
     },
     "execution_count": 39,
     "metadata": {},
     "output_type": "execute_result"
    }
   ],
   "source": [
    "itemRDD=sc.textFile('file:///home/hadoop/data/u.item')\n",
    "itemRDD.count()"
   ]
  },
  {
   "cell_type": "code",
   "execution_count": 40,
   "metadata": {},
   "outputs": [],
   "source": [
    "#step4.2 建立 電影ID與名稱 字典"
   ]
  },
  {
   "cell_type": "code",
   "execution_count": 41,
   "metadata": {},
   "outputs": [
    {
     "data": {
      "text/plain": [
       "['1|Toy Story (1995)|01-Jan-1995||http://us.imdb.com/M/title-exact?Toy%20Story%20(1995)|0|0|0|1|1|1|0|0|0|0|0|0|0|0|0|0|0|0|0',\n",
       " '2|GoldenEye (1995)|01-Jan-1995||http://us.imdb.com/M/title-exact?GoldenEye%20(1995)|0|1|1|0|0|0|0|0|0|0|0|0|0|0|0|0|1|0|0',\n",
       " '3|Four Rooms (1995)|01-Jan-1995||http://us.imdb.com/M/title-exact?Four%20Rooms%20(1995)|0|0|0|0|0|0|0|0|0|0|0|0|0|0|0|0|1|0|0',\n",
       " '4|Get Shorty (1995)|01-Jan-1995||http://us.imdb.com/M/title-exact?Get%20Shorty%20(1995)|0|1|0|0|0|1|0|0|1|0|0|0|0|0|0|0|0|0|0',\n",
       " '5|Copycat (1995)|01-Jan-1995||http://us.imdb.com/M/title-exact?Copycat%20(1995)|0|0|0|0|0|0|1|0|1|0|0|0|0|0|0|0|1|0|0']"
      ]
     },
     "execution_count": 41,
     "metadata": {},
     "output_type": "execute_result"
    }
   ],
   "source": [
    "itemRDD.take(5) #資料是以 \"|\" 分隔"
   ]
  },
  {
   "cell_type": "code",
   "execution_count": 42,
   "metadata": {},
   "outputs": [],
   "source": [
    "movieTitle=itemRDD.map(lambda x:x.split(\"|\")).map(lambda a:(float(a[0]),a[1])).collectAsMap()"
   ]
  },
  {
   "cell_type": "code",
   "execution_count": 43,
   "metadata": {},
   "outputs": [
    {
     "data": {
      "text/plain": [
       "dict"
      ]
     },
     "execution_count": 43,
     "metadata": {},
     "output_type": "execute_result"
    }
   ],
   "source": [
    "type(movieTitle) #collectAsMap() 回傳的是 dict object 'moviewTitle'"
   ]
  },
  {
   "cell_type": "code",
   "execution_count": 44,
   "metadata": {},
   "outputs": [],
   "source": [
    "#step4.4 查詢電影名稱"
   ]
  },
  {
   "cell_type": "code",
   "execution_count": 46,
   "metadata": {},
   "outputs": [
    {
     "data": {
      "text/plain": [
       "'Copycat (1995)'"
      ]
     },
     "execution_count": 46,
     "metadata": {},
     "output_type": "execute_result"
    }
   ],
   "source": [
    "movieTitle[5.0] #movieID 5的電影名稱"
   ]
  },
  {
   "cell_type": "code",
   "execution_count": 47,
   "metadata": {},
   "outputs": [],
   "source": [
    "#step4.5 顯示前5筆推薦的電影名稱"
   ]
  },
  {
   "cell_type": "code",
   "execution_count": 48,
   "metadata": {},
   "outputs": [],
   "source": [
    "recommendP=model.recommendProducts(100,5)"
   ]
  },
  {
   "cell_type": "code",
   "execution_count": 49,
   "metadata": {},
   "outputs": [
    {
     "name": "stdout",
     "output_type": "stream",
     "text": [
      "對會員:100 推薦電影:\n",
      "Mercury Rising (1998)\n",
      " 推薦評分:5.041050921091996\n",
      "對會員:100 推薦電影:\n",
      "Lost in Space (1998)\n",
      " 推薦評分:4.8951399360832415\n",
      "對會員:100 推薦電影:\n",
      "Boys, Les (1997)\n",
      " 推薦評分:4.779030788486365\n",
      "對會員:100 推薦電影:\n",
      "My Man Godfrey (1936)\n",
      " 推薦評分:4.717257483432048\n",
      "對會員:100 推薦電影:\n",
      "Miracle on 34th Street (1994)\n",
      " 推薦評分:4.716840943255116\n"
     ]
    }
   ],
   "source": [
    "for p in recommendP:\n",
    "    print(\"對會員:\"+str(p[0])+\" 推薦電影:\")\n",
    "    print(movieTitle[p[1]])\n",
    "    print(\" 推薦評分:\"+str(p[2]))"
   ]
  },
  {
   "cell_type": "code",
   "execution_count": null,
   "metadata": {},
   "outputs": [],
   "source": []
  }
 ],
 "metadata": {
  "kernelspec": {
   "display_name": "Python 3",
   "language": "python",
   "name": "python3"
  },
  "language_info": {
   "codemirror_mode": {
    "name": "ipython",
    "version": 3
   },
   "file_extension": ".py",
   "mimetype": "text/x-python",
   "name": "python",
   "nbconvert_exporter": "python",
   "pygments_lexer": "ipython3",
   "version": "3.5.2"
  }
 },
 "nbformat": 4,
 "nbformat_minor": 2
}
