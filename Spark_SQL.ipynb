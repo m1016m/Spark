{
 "cells": [
  {
   "cell_type": "code",
   "execution_count": 3,
   "metadata": {},
   "outputs": [
    {
     "data": {
      "text/plain": [
       "'local[*]'"
      ]
     },
     "execution_count": 3,
     "metadata": {},
     "output_type": "execute_result"
    }
   ],
   "source": [
    "from pyspark.sql.session import SparkSession\n",
    "from pyspark.context import SparkContext\n",
    "sc = SparkContext.getOrCreate()\n",
    "sc.master"
   ]
  },
  {
   "cell_type": "code",
   "execution_count": 4,
   "metadata": {},
   "outputs": [],
   "source": [
    "global Path    \n",
    "if sc.master[0:5]==\"local\" :\n",
    "   Path=\"file:///home/hadoop/\"\n",
    "else:   \n",
    "   Path=\"hdfs://master:9000/user/hduser/\""
   ]
  },
  {
   "cell_type": "markdown",
   "metadata": {},
   "source": [
    "# 建立RDD、DataFrame與Spark SQL tempTable"
   ]
  },
  {
   "cell_type": "code",
   "execution_count": 5,
   "metadata": {},
   "outputs": [],
   "source": [
    "#Step 1  讀取文字檔,建立RDD"
   ]
  },
  {
   "cell_type": "code",
   "execution_count": 6,
   "metadata": {},
   "outputs": [],
   "source": [
    "RawUserRDD= sc.textFile(Path+\"u.user\")"
   ]
  },
  {
   "cell_type": "code",
   "execution_count": 7,
   "metadata": {},
   "outputs": [
    {
     "data": {
      "text/plain": [
       "943"
      ]
     },
     "execution_count": 7,
     "metadata": {},
     "output_type": "execute_result"
    }
   ],
   "source": [
    "RawUserRDD.count()"
   ]
  },
  {
   "cell_type": "code",
   "execution_count": 8,
   "metadata": {},
   "outputs": [
    {
     "data": {
      "text/plain": [
       "['1|24|M|technician|85711',\n",
       " '2|53|F|other|94043',\n",
       " '3|23|M|writer|32067',\n",
       " '4|24|M|technician|43537',\n",
       " '5|33|F|other|15213']"
      ]
     },
     "execution_count": 8,
     "metadata": {},
     "output_type": "execute_result"
    }
   ],
   "source": [
    "RawUserRDD.take(5)"
   ]
  },
  {
   "cell_type": "code",
   "execution_count": 9,
   "metadata": {},
   "outputs": [
    {
     "data": {
      "text/plain": [
       "[['1', '24', 'M', 'technician', '85711'],\n",
       " ['2', '53', 'F', 'other', '94043'],\n",
       " ['3', '23', 'M', 'writer', '32067'],\n",
       " ['4', '24', 'M', 'technician', '43537'],\n",
       " ['5', '33', 'F', 'other', '15213']]"
      ]
     },
     "execution_count": 9,
     "metadata": {},
     "output_type": "execute_result"
    }
   ],
   "source": [
    "userRDD =RawUserRDD.map(lambda line: line.split(\"|\"))\n",
    "userRDD .take(5)"
   ]
  },
  {
   "cell_type": "markdown",
   "metadata": {},
   "source": [
    "# 建立DataFrame"
   ]
  },
  {
   "cell_type": "code",
   "execution_count": 10,
   "metadata": {},
   "outputs": [],
   "source": [
    "sqlContext = SparkSession.builder.getOrCreate()"
   ]
  },
  {
   "cell_type": "code",
   "execution_count": 11,
   "metadata": {},
   "outputs": [
    {
     "data": {
      "text/plain": [
       "[Row(age=24, gender='M', occupation='technician', userid=1, zipcode='85711'),\n",
       " Row(age=53, gender='F', occupation='other', userid=2, zipcode='94043'),\n",
       " Row(age=23, gender='M', occupation='writer', userid=3, zipcode='32067'),\n",
       " Row(age=24, gender='M', occupation='technician', userid=4, zipcode='43537'),\n",
       " Row(age=33, gender='F', occupation='other', userid=5, zipcode='15213')]"
      ]
     },
     "execution_count": 11,
     "metadata": {},
     "output_type": "execute_result"
    }
   ],
   "source": [
    "from pyspark.sql import Row\n",
    "user_Rows = userRDD.map(lambda p:\n",
    "     Row(\n",
    "         userid=int(p[0]), \n",
    "         age=int(p[1]),\n",
    "         gender=p[2],\n",
    "         occupation=p[3],\n",
    "         zipcode=p[4]\n",
    "    )\n",
    ")\n",
    "user_Rows.take(5)"
   ]
  },
  {
   "cell_type": "code",
   "execution_count": 12,
   "metadata": {},
   "outputs": [
    {
     "name": "stdout",
     "output_type": "stream",
     "text": [
      "root\n",
      " |-- age: long (nullable = true)\n",
      " |-- gender: string (nullable = true)\n",
      " |-- occupation: string (nullable = true)\n",
      " |-- userid: long (nullable = true)\n",
      " |-- zipcode: string (nullable = true)\n",
      "\n"
     ]
    }
   ],
   "source": [
    "user_df = sqlContext.createDataFrame(user_Rows)\n",
    "user_df .printSchema()"
   ]
  },
  {
   "cell_type": "code",
   "execution_count": 13,
   "metadata": {},
   "outputs": [
    {
     "name": "stdout",
     "output_type": "stream",
     "text": [
      "+---+------+----------+------+-------+\n",
      "|age|gender|occupation|userid|zipcode|\n",
      "+---+------+----------+------+-------+\n",
      "| 24|     M|technician|     1|  85711|\n",
      "| 53|     F|     other|     2|  94043|\n",
      "| 23|     M|    writer|     3|  32067|\n",
      "| 24|     M|technician|     4|  43537|\n",
      "| 33|     F|     other|     5|  15213|\n",
      "+---+------+----------+------+-------+\n",
      "only showing top 5 rows\n",
      "\n"
     ]
    }
   ],
   "source": [
    "user_df.show(5)"
   ]
  },
  {
   "cell_type": "code",
   "execution_count": 18,
   "metadata": {},
   "outputs": [
    {
     "name": "stdout",
     "output_type": "stream",
     "text": [
      "+---+------+----------+------+-------+\n",
      "|age|gender|occupation|userid|zipcode|\n",
      "+---+------+----------+------+-------+\n",
      "| 24|     M|technician|     1|  85711|\n",
      "| 53|     F|     other|     2|  94043|\n",
      "| 23|     M|    writer|     3|  32067|\n",
      "| 24|     M|technician|     4|  43537|\n",
      "| 33|     F|     other|     5|  15213|\n",
      "+---+------+----------+------+-------+\n",
      "only showing top 5 rows\n",
      "\n"
     ]
    }
   ],
   "source": [
    "df=user_df.alias(\"df\")\n",
    "df.show(5)"
   ]
  },
  {
   "cell_type": "markdown",
   "metadata": {},
   "source": [
    "# 建立Spark SQL tempTable"
   ]
  },
  {
   "cell_type": "code",
   "execution_count": 15,
   "metadata": {},
   "outputs": [],
   "source": [
    "user_df.registerTempTable(\"user_table\")"
   ]
  },
  {
   "cell_type": "code",
   "execution_count": 16,
   "metadata": {},
   "outputs": [
    {
     "name": "stdout",
     "output_type": "stream",
     "text": [
      "+------+\n",
      "|counts|\n",
      "+------+\n",
      "|   943|\n",
      "+------+\n",
      "\n"
     ]
    }
   ],
   "source": [
    "sqlContext.sql(\" SELECT count(*) counts FROM user_table\").show()"
   ]
  },
  {
   "cell_type": "code",
   "execution_count": 17,
   "metadata": {},
   "outputs": [
    {
     "name": "stdout",
     "output_type": "stream",
     "text": [
      "+------+\n",
      "|counts|\n",
      "+------+\n",
      "|   943|\n",
      "+------+\n",
      "\n"
     ]
    }
   ],
   "source": [
    "sqlContext.sql(\"\"\"\n",
    "SELECT count(*) counts \n",
    "FROM   user_table\n",
    "\"\"\").show()"
   ]
  },
  {
   "cell_type": "code",
   "execution_count": 19,
   "metadata": {},
   "outputs": [
    {
     "name": "stdout",
     "output_type": "stream",
     "text": [
      "+---+------+-------------+------+-------+\n",
      "|age|gender|   occupation|userid|zipcode|\n",
      "+---+------+-------------+------+-------+\n",
      "| 24|     M|   technician|     1|  85711|\n",
      "| 53|     F|        other|     2|  94043|\n",
      "| 23|     M|       writer|     3|  32067|\n",
      "| 24|     M|   technician|     4|  43537|\n",
      "| 33|     F|        other|     5|  15213|\n",
      "| 42|     M|    executive|     6|  98101|\n",
      "| 57|     M|administrator|     7|  91344|\n",
      "| 36|     M|administrator|     8|  05201|\n",
      "| 29|     M|      student|     9|  01002|\n",
      "| 53|     M|       lawyer|    10|  90703|\n",
      "| 39|     F|        other|    11|  30329|\n",
      "| 28|     F|        other|    12|  06405|\n",
      "| 47|     M|     educator|    13|  29206|\n",
      "| 45|     M|    scientist|    14|  55106|\n",
      "| 49|     F|     educator|    15|  97301|\n",
      "| 21|     M|entertainment|    16|  10309|\n",
      "| 30|     M|   programmer|    17|  06355|\n",
      "| 35|     F|        other|    18|  37212|\n",
      "| 40|     M|    librarian|    19|  02138|\n",
      "| 42|     F|    homemaker|    20|  95660|\n",
      "+---+------+-------------+------+-------+\n",
      "only showing top 20 rows\n",
      "\n"
     ]
    }
   ],
   "source": [
    "sqlContext.sql(\" SELECT *  FROM user_table \").show()"
   ]
  },
  {
   "cell_type": "code",
   "execution_count": 20,
   "metadata": {},
   "outputs": [
    {
     "name": "stdout",
     "output_type": "stream",
     "text": [
      "+---+------+----------+------+-------+\n",
      "|age|gender|occupation|userid|zipcode|\n",
      "+---+------+----------+------+-------+\n",
      "| 24|     M|technician|     1|  85711|\n",
      "| 53|     F|     other|     2|  94043|\n",
      "| 23|     M|    writer|     3|  32067|\n",
      "| 24|     M|technician|     4|  43537|\n",
      "| 33|     F|     other|     5|  15213|\n",
      "+---+------+----------+------+-------+\n",
      "only showing top 5 rows\n",
      "\n"
     ]
    }
   ],
   "source": [
    "sqlContext.sql(\" SELECT *  FROM user_table\").show(5)"
   ]
  },
  {
   "cell_type": "code",
   "execution_count": 21,
   "metadata": {},
   "outputs": [
    {
     "name": "stdout",
     "output_type": "stream",
     "text": [
      "+---+------+----------+------+-------+\n",
      "|age|gender|occupation|userid|zipcode|\n",
      "+---+------+----------+------+-------+\n",
      "| 24|     M|technician|     1|  85711|\n",
      "| 53|     F|     other|     2|  94043|\n",
      "| 23|     M|    writer|     3|  32067|\n",
      "| 24|     M|technician|     4|  43537|\n",
      "| 33|     F|     other|     5|  15213|\n",
      "+---+------+----------+------+-------+\n",
      "\n"
     ]
    }
   ],
   "source": [
    "sqlContext.sql(\" SELECT *  FROM user_table LIMIT 5\").show()"
   ]
  },
  {
   "cell_type": "markdown",
   "metadata": {},
   "source": [
    "# 顯示部分欄位"
   ]
  },
  {
   "cell_type": "code",
   "execution_count": 22,
   "metadata": {},
   "outputs": [
    {
     "data": {
      "text/plain": [
       "[('1', 'technician', 'M', '24'),\n",
       " ('2', 'other', 'F', '53'),\n",
       " ('3', 'writer', 'M', '23'),\n",
       " ('4', 'technician', 'M', '24'),\n",
       " ('5', 'other', 'F', '33')]"
      ]
     },
     "execution_count": 22,
     "metadata": {},
     "output_type": "execute_result"
    }
   ],
   "source": [
    "userRDDnew= userRDD.map(lambda x: (x[0],x[3],x[2] ,x[1]) )\n",
    "userRDDnew.take(5)"
   ]
  },
  {
   "cell_type": "code",
   "execution_count": 23,
   "metadata": {},
   "outputs": [
    {
     "name": "stdout",
     "output_type": "stream",
     "text": [
      "+------+----------+------+---+\n",
      "|userid|occupation|gender|age|\n",
      "+------+----------+------+---+\n",
      "|     1|technician|     M| 24|\n",
      "|     2|     other|     F| 53|\n",
      "|     3|    writer|     M| 23|\n",
      "|     4|technician|     M| 24|\n",
      "|     5|     other|     F| 33|\n",
      "+------+----------+------+---+\n",
      "only showing top 5 rows\n",
      "\n"
     ]
    }
   ],
   "source": [
    "user_df.select(\"userid\",\"occupation\",\"gender\",\"age\").show(5)"
   ]
  },
  {
   "cell_type": "code",
   "execution_count": 24,
   "metadata": {},
   "outputs": [
    {
     "name": "stdout",
     "output_type": "stream",
     "text": [
      "+------+----------+------+---+\n",
      "|userid|occupation|gender|age|\n",
      "+------+----------+------+---+\n",
      "|     1|technician|     M| 24|\n",
      "|     2|     other|     F| 53|\n",
      "|     3|    writer|     M| 23|\n",
      "|     4|technician|     M| 24|\n",
      "|     5|     other|     F| 33|\n",
      "+------+----------+------+---+\n",
      "only showing top 5 rows\n",
      "\n"
     ]
    }
   ],
   "source": [
    "user_df.select( user_df.userid, user_df.occupation,user_df.gender,user_df.age ).show(5)"
   ]
  },
  {
   "cell_type": "code",
   "execution_count": 25,
   "metadata": {},
   "outputs": [
    {
     "name": "stdout",
     "output_type": "stream",
     "text": [
      "+------+----------+------+---+\n",
      "|userid|occupation|gender|age|\n",
      "+------+----------+------+---+\n",
      "|     1|technician|     M| 24|\n",
      "|     2|     other|     F| 53|\n",
      "|     3|    writer|     M| 23|\n",
      "|     4|technician|     M| 24|\n",
      "|     5|     other|     F| 33|\n",
      "+------+----------+------+---+\n",
      "only showing top 5 rows\n",
      "\n"
     ]
    }
   ],
   "source": [
    "df.select(df.userid,df.occupation,df.gender,df.age  ).show(5)"
   ]
  },
  {
   "cell_type": "code",
   "execution_count": 26,
   "metadata": {},
   "outputs": [
    {
     "name": "stdout",
     "output_type": "stream",
     "text": [
      "+------+----------+------+---+\n",
      "|userid|occupation|gender|age|\n",
      "+------+----------+------+---+\n",
      "|     1|technician|     M| 24|\n",
      "|     2|     other|     F| 53|\n",
      "|     3|    writer|     M| 23|\n",
      "|     4|technician|     M| 24|\n",
      "|     5|     other|     F| 33|\n",
      "+------+----------+------+---+\n",
      "only showing top 5 rows\n",
      "\n"
     ]
    }
   ],
   "source": [
    "user_df.select(user_df.userid, user_df.occupation,df.gender,df.age ).show(5)"
   ]
  },
  {
   "cell_type": "code",
   "execution_count": 27,
   "metadata": {},
   "outputs": [
    {
     "name": "stdout",
     "output_type": "stream",
     "text": [
      "+------+----------+------+---+\n",
      "|userid|occupation|gender|age|\n",
      "+------+----------+------+---+\n",
      "|     1|technician|     M| 24|\n",
      "|     2|     other|     F| 53|\n",
      "|     3|    writer|     M| 23|\n",
      "|     4|technician|     M| 24|\n",
      "|     5|     other|     F| 33|\n",
      "+------+----------+------+---+\n",
      "only showing top 5 rows\n",
      "\n"
     ]
    }
   ],
   "source": [
    "df[df['userid'],df['occupation'],df['gender'],df['age']  ].show(5)"
   ]
  },
  {
   "cell_type": "code",
   "execution_count": 28,
   "metadata": {},
   "outputs": [
    {
     "name": "stdout",
     "output_type": "stream",
     "text": [
      "+------+----------+------+---+\n",
      "|userid|occupation|gender|age|\n",
      "+------+----------+------+---+\n",
      "|     1|technician|     M| 24|\n",
      "|     2|     other|     F| 53|\n",
      "|     3|    writer|     M| 23|\n",
      "|     4|technician|     M| 24|\n",
      "|     5|     other|     F| 33|\n",
      "+------+----------+------+---+\n",
      "only showing top 5 rows\n",
      "\n"
     ]
    }
   ],
   "source": [
    "sqlContext.sql(\" SELECT userid,occupation,gender,age  FROM user_table\").show(5)"
   ]
  },
  {
   "cell_type": "markdown",
   "metadata": {},
   "source": [
    "# 增加計算欄位"
   ]
  },
  {
   "cell_type": "code",
   "execution_count": 29,
   "metadata": {},
   "outputs": [
    {
     "data": {
      "text/plain": [
       "[('1', 'technician', 'M', '24', 1992),\n",
       " ('2', 'other', 'F', '53', 1963),\n",
       " ('3', 'writer', 'M', '23', 1993),\n",
       " ('4', 'technician', 'M', '24', 1992),\n",
       " ('5', 'other', 'F', '33', 1983)]"
      ]
     },
     "execution_count": 29,
     "metadata": {},
     "output_type": "execute_result"
    }
   ],
   "source": [
    "userRDDnew= userRDD.map(lambda x: (x[0],x[3],x[2],x[1] ,2016-int(x[1])) )\n",
    "userRDDnew.take(5)"
   ]
  },
  {
   "cell_type": "code",
   "execution_count": 30,
   "metadata": {},
   "outputs": [
    {
     "name": "stdout",
     "output_type": "stream",
     "text": [
      "+------+----------+------+---+------------+\n",
      "|userid|occupation|gender|age|(2016 - age)|\n",
      "+------+----------+------+---+------------+\n",
      "|     1|technician|     M| 24|        1992|\n",
      "|     2|     other|     F| 53|        1963|\n",
      "|     3|    writer|     M| 23|        1993|\n",
      "|     4|technician|     M| 24|        1992|\n",
      "|     5|     other|     F| 33|        1983|\n",
      "+------+----------+------+---+------------+\n",
      "only showing top 5 rows\n",
      "\n"
     ]
    }
   ],
   "source": [
    "df.select(\"userid\",\"occupation\",\"gender\",\"age\",2016-df.age).show(5)"
   ]
  },
  {
   "cell_type": "code",
   "execution_count": 31,
   "metadata": {},
   "outputs": [
    {
     "name": "stdout",
     "output_type": "stream",
     "text": [
      "+------+----------+------+---+---------+\n",
      "|userid|occupation|gender|age|birthyear|\n",
      "+------+----------+------+---+---------+\n",
      "|     1|technician|     M| 24|     1992|\n",
      "|     2|     other|     F| 53|     1963|\n",
      "|     3|    writer|     M| 23|     1993|\n",
      "|     4|technician|     M| 24|     1992|\n",
      "|     5|     other|     F| 33|     1983|\n",
      "+------+----------+------+---+---------+\n",
      "only showing top 5 rows\n",
      "\n"
     ]
    }
   ],
   "source": [
    "df.select(\"userid\",\"occupation\",\"gender\",\"age\",(2016-df.age).alias(\"birthyear\")).show(5)"
   ]
  },
  {
   "cell_type": "code",
   "execution_count": 32,
   "metadata": {},
   "outputs": [
    {
     "name": "stdout",
     "output_type": "stream",
     "text": [
      "+------+----------+------+---+---------+\n",
      "|userid|occupation|gender|age|birthyear|\n",
      "+------+----------+------+---+---------+\n",
      "|     1|technician|     M| 24|     1992|\n",
      "|     2|     other|     F| 53|     1963|\n",
      "|     3|    writer|     M| 23|     1993|\n",
      "|     4|technician|     M| 24|     1992|\n",
      "|     5|     other|     F| 33|     1983|\n",
      "+------+----------+------+---+---------+\n",
      "only showing top 5 rows\n",
      "\n"
     ]
    }
   ],
   "source": [
    "sqlContext.sql(\"\"\"\n",
    "SELECT userid,occupation,gender,age,2016-age birthyear \n",
    "FROM user_table\"\"\").show(5)"
   ]
  },
  {
   "cell_type": "markdown",
   "metadata": {},
   "source": [
    "# 篩選資料"
   ]
  },
  {
   "cell_type": "code",
   "execution_count": 33,
   "metadata": {},
   "outputs": [
    {
     "data": {
      "text/plain": [
       "[['1', '24', 'M', 'technician', '85711'],\n",
       " ['4', '24', 'M', 'technician', '43537'],\n",
       " ['456', '24', 'M', 'technician', '31820'],\n",
       " ['717', '24', 'M', 'technician', '84105'],\n",
       " ['832', '24', 'M', 'technician', '77042'],\n",
       " ['889', '24', 'M', 'technician', '78704']]"
      ]
     },
     "execution_count": 33,
     "metadata": {},
     "output_type": "execute_result"
    }
   ],
   "source": [
    "userRDD.filter(lambda r:   r[3]=='technician' and r[2]=='M' and r[1]=='24').take(6) "
   ]
  },
  {
   "cell_type": "code",
   "execution_count": 34,
   "metadata": {},
   "outputs": [
    {
     "name": "stdout",
     "output_type": "stream",
     "text": [
      "+---+------+----------+------+-------+\n",
      "|age|gender|occupation|userid|zipcode|\n",
      "+---+------+----------+------+-------+\n",
      "| 24|     M|technician|     1|  85711|\n",
      "| 24|     M|technician|     4|  43537|\n",
      "| 24|     M|technician|   456|  31820|\n",
      "| 24|     M|technician|   717|  84105|\n",
      "| 24|     M|technician|   832|  77042|\n",
      "| 24|     M|technician|   889|  78704|\n",
      "+---+------+----------+------+-------+\n",
      "\n"
     ]
    }
   ],
   "source": [
    "user_df.filter(\"occupation='technician' \").filter(\"gender='M' \").filter(\"age=24\").show()"
   ]
  },
  {
   "cell_type": "code",
   "execution_count": 35,
   "metadata": {},
   "outputs": [
    {
     "name": "stdout",
     "output_type": "stream",
     "text": [
      "+---+------+----------+------+-------+\n",
      "|age|gender|occupation|userid|zipcode|\n",
      "+---+------+----------+------+-------+\n",
      "| 24|     M|technician|     1|  85711|\n",
      "| 24|     M|technician|     4|  43537|\n",
      "| 24|     M|technician|   456|  31820|\n",
      "| 24|     M|technician|   717|  84105|\n",
      "| 24|     M|technician|   832|  77042|\n",
      "| 24|     M|technician|   889|  78704|\n",
      "+---+------+----------+------+-------+\n",
      "\n"
     ]
    }
   ],
   "source": [
    "user_df.filter(\"occupation='technician' and gender='M' and age=24\").show()"
   ]
  },
  {
   "cell_type": "code",
   "execution_count": 36,
   "metadata": {},
   "outputs": [
    {
     "name": "stdout",
     "output_type": "stream",
     "text": [
      "+---+------+----------+------+-------+\n",
      "|age|gender|occupation|userid|zipcode|\n",
      "+---+------+----------+------+-------+\n",
      "| 24|     M|technician|     1|  85711|\n",
      "| 24|     M|technician|     4|  43537|\n",
      "| 24|     M|technician|   456|  31820|\n",
      "| 24|     M|technician|   717|  84105|\n",
      "| 24|     M|technician|   832|  77042|\n",
      "| 24|     M|technician|   889|  78704|\n",
      "+---+------+----------+------+-------+\n",
      "\n"
     ]
    }
   ],
   "source": [
    "df.filter((df.occupation=='technician' ) & (df.gender=='M' ) & (df.age==24)).show()"
   ]
  },
  {
   "cell_type": "code",
   "execution_count": 37,
   "metadata": {},
   "outputs": [
    {
     "name": "stdout",
     "output_type": "stream",
     "text": [
      "+---+------+----------+------+-------+\n",
      "|age|gender|occupation|userid|zipcode|\n",
      "+---+------+----------+------+-------+\n",
      "| 24|     M|technician|     1|  85711|\n",
      "| 24|     M|technician|     4|  43537|\n",
      "| 24|     M|technician|   456|  31820|\n",
      "| 24|     M|technician|   717|  84105|\n",
      "| 24|     M|technician|   832|  77042|\n",
      "| 24|     M|technician|   889|  78704|\n",
      "+---+------+----------+------+-------+\n",
      "\n"
     ]
    }
   ],
   "source": [
    "df.filter((df['occupation']=='technician' ) & (df['gender']=='M' ) & (df['age']==24)).show()"
   ]
  },
  {
   "cell_type": "markdown",
   "metadata": {},
   "source": [
    "# 單一欄位排序資料"
   ]
  },
  {
   "cell_type": "code",
   "execution_count": 38,
   "metadata": {},
   "outputs": [
    {
     "data": {
      "text/plain": [
       "[['30', '7', 'M', 'student', '55436'],\n",
       " ['471', '10', 'M', 'student', '77459'],\n",
       " ['289', '11', 'M', 'none', '94619'],\n",
       " ['142', '13', 'M', 'other', '48118'],\n",
       " ['609', '13', 'F', 'student', '55106']]"
      ]
     },
     "execution_count": 38,
     "metadata": {},
     "output_type": "execute_result"
    }
   ],
   "source": [
    "userRDD.takeOrdered(5, key = lambda x: int(x[1]))"
   ]
  },
  {
   "cell_type": "code",
   "execution_count": 39,
   "metadata": {},
   "outputs": [
    {
     "name": "stdout",
     "output_type": "stream",
     "text": [
      "+------+----------+------+---+\n",
      "|userid|occupation|gender|age|\n",
      "+------+----------+------+---+\n",
      "|    30|   student|     M|  7|\n",
      "|   471|   student|     M| 10|\n",
      "|   289|      none|     M| 11|\n",
      "|   142|     other|     M| 13|\n",
      "|   609|   student|     F| 13|\n",
      "+------+----------+------+---+\n",
      "only showing top 5 rows\n",
      "\n"
     ]
    }
   ],
   "source": [
    "sqlContext.sql(\"\"\"\n",
    "SELECT userid,occupation,gender,age   \n",
    "FROM user_table \n",
    "ORDER BY age\"\"\").show(5)"
   ]
  },
  {
   "cell_type": "code",
   "execution_count": 40,
   "metadata": {},
   "outputs": [
    {
     "name": "stdout",
     "output_type": "stream",
     "text": [
      "+------+-------------+------+---+\n",
      "|userid|   occupation|gender|age|\n",
      "+------+-------------+------+---+\n",
      "|   481|      retired|     M| 73|\n",
      "|   767|     engineer|     M| 70|\n",
      "|   860|      retired|     F| 70|\n",
      "|   803|administrator|     M| 70|\n",
      "|   559|    executive|     M| 69|\n",
      "+------+-------------+------+---+\n",
      "only showing top 5 rows\n",
      "\n"
     ]
    }
   ],
   "source": [
    "sqlContext.sql(\"\"\"\n",
    "SELECT userid,occupation,gender,age   \n",
    "FROM user_table \n",
    "ORDER BY age DESC\"\"\").show(5)"
   ]
  },
  {
   "cell_type": "code",
   "execution_count": 41,
   "metadata": {},
   "outputs": [
    {
     "name": "stdout",
     "output_type": "stream",
     "text": [
      "+------+----------+------+---+\n",
      "|userid|occupation|gender|age|\n",
      "+------+----------+------+---+\n",
      "|    30|   student|     M|  7|\n",
      "|   471|   student|     M| 10|\n",
      "|   289|      none|     M| 11|\n",
      "|   142|     other|     M| 13|\n",
      "|   609|   student|     F| 13|\n",
      "+------+----------+------+---+\n",
      "only showing top 5 rows\n",
      "\n"
     ]
    }
   ],
   "source": [
    "user_df.select(\"userid\",\"occupation\",\"gender\",\"age\").orderBy(\"age\").show(5)"
   ]
  },
  {
   "cell_type": "code",
   "execution_count": 42,
   "metadata": {},
   "outputs": [
    {
     "name": "stdout",
     "output_type": "stream",
     "text": [
      "+------+-------------+------+---+\n",
      "|userid|   occupation|gender|age|\n",
      "+------+-------------+------+---+\n",
      "|   481|      retired|     M| 73|\n",
      "|   767|     engineer|     M| 70|\n",
      "|   860|      retired|     F| 70|\n",
      "|   803|administrator|     M| 70|\n",
      "|   559|    executive|     M| 69|\n",
      "+------+-------------+------+---+\n",
      "only showing top 5 rows\n",
      "\n"
     ]
    }
   ],
   "source": [
    "df.select(\"userid\",\"occupation\",\"gender\",\"age\").orderBy(\"age\",ascending=0 ).show(5)"
   ]
  },
  {
   "cell_type": "markdown",
   "metadata": {},
   "source": [
    "# 多欄位排序資料"
   ]
  },
  {
   "cell_type": "code",
   "execution_count": 43,
   "metadata": {},
   "outputs": [
    {
     "data": {
      "text/plain": [
       "[['481', '73', 'M', 'retired', '37771'],\n",
       " ['860', '70', 'F', 'retired', '48322'],\n",
       " ['767', '70', 'M', 'engineer', '00000'],\n",
       " ['803', '70', 'M', 'administrator', '78212'],\n",
       " ['559', '69', 'M', 'executive', '10022']]"
      ]
     },
     "execution_count": 43,
     "metadata": {},
     "output_type": "execute_result"
    }
   ],
   "source": [
    "userRDD.takeOrdered(5, key = lambda x: (-int(x[1]), x[2] ) )"
   ]
  },
  {
   "cell_type": "code",
   "execution_count": 44,
   "metadata": {},
   "outputs": [
    {
     "name": "stdout",
     "output_type": "stream",
     "text": [
      "+------+---+------+-------------+-------+\n",
      "|userid|age|gender|   occupation|zipcode|\n",
      "+------+---+------+-------------+-------+\n",
      "|   481| 73|     M|      retired|  37771|\n",
      "|   860| 70|     F|      retired|  48322|\n",
      "|   767| 70|     M|     engineer|  00000|\n",
      "|   803| 70|     M|administrator|  78212|\n",
      "|   559| 69|     M|    executive|  10022|\n",
      "+------+---+------+-------------+-------+\n",
      "only showing top 5 rows\n",
      "\n"
     ]
    }
   ],
   "source": [
    "sqlContext.sql(\"\"\"\n",
    "SELECT userid, age, gender,occupation,zipcode\n",
    "FROM user_table\n",
    "ORDER BY age DESC,gender \"\"\").show(5)"
   ]
  },
  {
   "cell_type": "code",
   "execution_count": 45,
   "metadata": {},
   "outputs": [
    {
     "name": "stdout",
     "output_type": "stream",
     "text": [
      "+---+------+-------------+------+-------+\n",
      "|age|gender|   occupation|userid|zipcode|\n",
      "+---+------+-------------+------+-------+\n",
      "| 73|     M|      retired|   481|  37771|\n",
      "| 70|     F|      retired|   860|  48322|\n",
      "| 70|     M|     engineer|   767|  00000|\n",
      "| 70|     M|administrator|   803|  78212|\n",
      "| 69|     M|    executive|   559|  10022|\n",
      "+---+------+-------------+------+-------+\n",
      "only showing top 5 rows\n",
      "\n"
     ]
    }
   ],
   "source": [
    "df.orderBy([\"age\",\"gender\"],ascending=[0,1] ).show(5)"
   ]
  },
  {
   "cell_type": "markdown",
   "metadata": {},
   "source": [
    "# 顯示不重複資料"
   ]
  },
  {
   "cell_type": "code",
   "execution_count": 46,
   "metadata": {},
   "outputs": [
    {
     "data": {
      "text/plain": [
       "['M', 'F']"
      ]
     },
     "execution_count": 46,
     "metadata": {},
     "output_type": "execute_result"
    }
   ],
   "source": [
    "userRDD.map( lambda x:x[2] ).distinct().collect()"
   ]
  },
  {
   "cell_type": "code",
   "execution_count": 48,
   "metadata": {},
   "outputs": [
    {
     "name": "stdout",
     "output_type": "stream",
     "text": [
      "+------+\n",
      "|gender|\n",
      "+------+\n",
      "|     F|\n",
      "|     M|\n",
      "+------+\n",
      "\n"
     ]
    }
   ],
   "source": [
    "sqlContext.sql(\" SELECT distinct gender FROM user_table\").show()"
   ]
  },
  {
   "cell_type": "code",
   "execution_count": 49,
   "metadata": {},
   "outputs": [
    {
     "name": "stdout",
     "output_type": "stream",
     "text": [
      "+---+------+\n",
      "|age|gender|\n",
      "+---+------+\n",
      "| 39|     F|\n",
      "| 48|     M|\n",
      "| 26|     M|\n",
      "| 28|     M|\n",
      "| 54|     M|\n",
      "| 60|     M|\n",
      "| 50|     M|\n",
      "| 53|     F|\n",
      "| 30|     M|\n",
      "| 48|     F|\n",
      "| 47|     M|\n",
      "| 46|     M|\n",
      "| 56|     M|\n",
      "| 32|     M|\n",
      "| 31|     M|\n",
      "| 53|     M|\n",
      "| 20|     F|\n",
      "| 29|     F|\n",
      "| 21|     F|\n",
      "| 42|     M|\n",
      "+---+------+\n",
      "only showing top 20 rows\n",
      "\n"
     ]
    }
   ],
   "source": [
    "sqlContext.sql(\" SELECT distinct age,gender  FROM user_table\").show()"
   ]
  },
  {
   "cell_type": "markdown",
   "metadata": {},
   "source": [
    "# 群組統計資料"
   ]
  },
  {
   "cell_type": "code",
   "execution_count": 50,
   "metadata": {},
   "outputs": [
    {
     "data": {
      "text/plain": [
       "[('M', 670), ('F', 273)]"
      ]
     },
     "execution_count": 50,
     "metadata": {},
     "output_type": "execute_result"
    }
   ],
   "source": [
    "userRDD.map(lambda x: (x[2],1)) \\\n",
    "               .reduceByKey(lambda x,y: x+y).collect()"
   ]
  },
  {
   "cell_type": "code",
   "execution_count": 51,
   "metadata": {},
   "outputs": [
    {
     "data": {
      "text/plain": [
       "[(('M', 'educator'), 69),\n",
       " (('F', 'educator'), 26),\n",
       " (('F', 'student'), 60),\n",
       " (('M', 'technician'), 26),\n",
       " (('F', 'engineer'), 2),\n",
       " (('F', 'programmer'), 6),\n",
       " (('M', 'librarian'), 22),\n",
       " (('M', 'doctor'), 7),\n",
       " (('M', 'executive'), 29),\n",
       " (('F', 'technician'), 1),\n",
       " (('F', 'executive'), 3),\n",
       " (('F', 'homemaker'), 6),\n",
       " (('M', 'healthcare'), 5),\n",
       " (('M', 'programmer'), 60),\n",
       " (('M', 'writer'), 26),\n",
       " (('M', 'none'), 5),\n",
       " (('M', 'entertainment'), 16),\n",
       " (('F', 'artist'), 13),\n",
       " (('M', 'engineer'), 65),\n",
       " (('F', 'scientist'), 3),\n",
       " (('M', 'salesman'), 9),\n",
       " (('M', 'scientist'), 28),\n",
       " (('F', 'administrator'), 36),\n",
       " (('M', 'lawyer'), 10),\n",
       " (('F', 'librarian'), 29),\n",
       " (('M', 'homemaker'), 1),\n",
       " (('M', 'student'), 136),\n",
       " (('F', 'other'), 36),\n",
       " (('M', 'other'), 69),\n",
       " (('F', 'writer'), 19),\n",
       " (('F', 'retired'), 1),\n",
       " (('F', 'healthcare'), 11),\n",
       " (('M', 'artist'), 15),\n",
       " (('F', 'marketing'), 10),\n",
       " (('M', 'retired'), 13),\n",
       " (('F', 'salesman'), 3),\n",
       " (('M', 'administrator'), 43),\n",
       " (('F', 'none'), 4),\n",
       " (('F', 'entertainment'), 2),\n",
       " (('M', 'marketing'), 16),\n",
       " (('F', 'lawyer'), 2)]"
      ]
     },
     "execution_count": 51,
     "metadata": {},
     "output_type": "execute_result"
    }
   ],
   "source": [
    "userRDD.map(lambda x: ((x[2],x[3]),1)).reduceByKey(lambda x,y: x+y).collect()"
   ]
  },
  {
   "cell_type": "code",
   "execution_count": 52,
   "metadata": {},
   "outputs": [
    {
     "name": "stdout",
     "output_type": "stream",
     "text": [
      "+------+------+\n",
      "|gender|counts|\n",
      "+------+------+\n",
      "|     F|   273|\n",
      "|     M|   670|\n",
      "+------+------+\n",
      "\n"
     ]
    }
   ],
   "source": [
    "sqlContext.sql(\"\"\" \n",
    "SELECT gender ,count(*)  counts  \n",
    "FROM   user_table \n",
    "GROUP BY gender\"\"\").show()"
   ]
  },
  {
   "cell_type": "code",
   "execution_count": 53,
   "metadata": {},
   "outputs": [
    {
     "name": "stdout",
     "output_type": "stream",
     "text": [
      "+------+-------------+------+\n",
      "|gender|   occupation|counts|\n",
      "+------+-------------+------+\n",
      "|     M|    executive|    29|\n",
      "|     M|     educator|    69|\n",
      "|     F|         none|     4|\n",
      "|     F|entertainment|     2|\n",
      "|     F|      retired|     1|\n",
      "|     F|       artist|    13|\n",
      "|     F|    librarian|    29|\n",
      "|     F|     engineer|     2|\n",
      "|     F|   healthcare|    11|\n",
      "|     F|administrator|    36|\n",
      "|     M|        other|    69|\n",
      "|     M|    homemaker|     1|\n",
      "|     F|       lawyer|     2|\n",
      "|     M|   programmer|    60|\n",
      "|     M|     salesman|     9|\n",
      "|     M|         none|     5|\n",
      "|     M|entertainment|    16|\n",
      "|     M|    marketing|    16|\n",
      "|     M|   technician|    26|\n",
      "|     M|administrator|    43|\n",
      "|     F|    marketing|    10|\n",
      "|     F|   programmer|     6|\n",
      "|     F|   technician|     1|\n",
      "|     F|    executive|     3|\n",
      "|     M|    scientist|    28|\n",
      "|     F|     educator|    26|\n",
      "|     M|      retired|    13|\n",
      "|     M|   healthcare|     5|\n",
      "|     M|       writer|    26|\n",
      "|     M|       lawyer|    10|\n",
      "|     M|      student|   136|\n",
      "|     F|     salesman|     3|\n",
      "|     M|       doctor|     7|\n",
      "|     M|       artist|    15|\n",
      "|     F|    homemaker|     6|\n",
      "|     M|     engineer|    65|\n",
      "|     F|        other|    36|\n",
      "|     F|       writer|    19|\n",
      "|     F|      student|    60|\n",
      "|     F|    scientist|     3|\n",
      "|     M|    librarian|    22|\n",
      "+------+-------------+------+\n",
      "\n"
     ]
    }
   ],
   "source": [
    "sqlContext.sql(\"\"\" \n",
    "SELECT gender,occupation,count(*) counts  \n",
    "FROM   user_table \n",
    "GROUP BY gender,occupation \n",
    "\"\"\").show(100)"
   ]
  },
  {
   "cell_type": "code",
   "execution_count": 54,
   "metadata": {},
   "outputs": [
    {
     "name": "stdout",
     "output_type": "stream",
     "text": [
      "+-------+-----------------+------+-------------+-----------------+------------------+\n",
      "|summary|              age|gender|   occupation|           userid|           zipcode|\n",
      "+-------+-----------------+------+-------------+-----------------+------------------+\n",
      "|  count|              943|   943|          943|              943|               943|\n",
      "|   mean|34.05196182396607|  null|         null|            472.0| 50868.78810810811|\n",
      "| stddev|12.19273973305903|  null|         null|272.3649512449549|30891.373254138176|\n",
      "|    min|                7|     F|administrator|                1|             00000|\n",
      "|    max|               73|     M|       writer|              943|             Y1A6B|\n",
      "+-------+-----------------+------+-------------+-----------------+------------------+\n",
      "\n"
     ]
    }
   ],
   "source": [
    "user_df.describe().show()"
   ]
  }
 ],
 "metadata": {
  "kernelspec": {
   "display_name": "Python 3",
   "language": "python",
   "name": "python3"
  },
  "language_info": {
   "codemirror_mode": {
    "name": "ipython",
    "version": 3
   },
   "file_extension": ".py",
   "mimetype": "text/x-python",
   "name": "python",
   "nbconvert_exporter": "python",
   "pygments_lexer": "ipython3",
   "version": "3.5.2"
  }
 },
 "nbformat": 4,
 "nbformat_minor": 2
}
